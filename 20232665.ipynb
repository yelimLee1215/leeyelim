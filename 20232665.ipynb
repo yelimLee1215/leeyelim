{
 "cells": [
  {
   "cell_type": "markdown",
   "id": "62ff9f93-7dc5-41f1-a957-01a93077d9ac",
   "metadata": {},
   "source": [
    "# LeetCode 225. Implement Stack using Queues\n"
   ]
  },
  {
   "cell_type": "code",
   "execution_count": 1,
   "id": "6e87e425-b981-4d5f-bfce-40be1d275a49",
   "metadata": {},
   "outputs": [
    {
     "name": "stdout",
     "output_type": "stream",
     "text": [
      "push(1) → 큐 상태: [1]\n",
      "push(2) → 큐 상태: [2, 1]\n",
      "top() → 2\n",
      "pop() → 2, 큐 상태: [1]\n",
      "empty() → False\n",
      "pop() → 1, 큐 상태: []\n",
      "empty() → True\n"
     ]
    },
    {
     "data": {
      "text/plain": [
       "True"
      ]
     },
     "execution_count": 1,
     "metadata": {},
     "output_type": "execute_result"
    }
   ],
   "source": [
    "from collections import deque\n",
    "\n",
    "class MyStack:\n",
    "    def __init__(self):\n",
    "        self.q = deque()\n",
    "\n",
    "    def push(self, x: int) -> None:\n",
    "        self.q.append(x)\n",
    "        # 회전: 맨 끝으로 들어간 걸 맨 앞으로\n",
    "        for _ in range(len(self.q) - 1):\n",
    "            self.q.append(self.q.popleft())\n",
    "        print(f\"push({x}) → 큐 상태: {list(self.q)}\")\n",
    "\n",
    "    def pop(self) -> int:\n",
    "        val = self.q.popleft()\n",
    "        print(f\"pop() → {val}, 큐 상태: {list(self.q)}\")\n",
    "        return val\n",
    "\n",
    "    def top(self) -> int:\n",
    "        print(f\"top() → {self.q[0]}\")\n",
    "        return self.q[0]\n",
    "\n",
    "    def empty(self) -> bool:\n",
    "        is_empty = not self.q\n",
    "        print(f\"empty() → {is_empty}\")\n",
    "        return is_empty\n",
    "\n",
    "\n",
    "# 테스트 실행\n",
    "stack = MyStack()\n",
    "stack.push(1)\n",
    "stack.push(2)\n",
    "stack.top()     # 출력: 2\n",
    "stack.pop()     # 출력: 2 제거\n",
    "stack.empty()   # 출력: False\n",
    "stack.pop()     # 출력: 1 제거\n",
    "stack.empty()   # 출력: True\n"
   ]
  },
  {
   "cell_type": "markdown",
   "id": "891192df-87d6-4c3d-b3b8-d00a973d424c",
   "metadata": {},
   "source": [
    "# LeetCode 232. Implement Queue using Stacks"
   ]
  },
  {
   "cell_type": "code",
   "execution_count": 2,
   "id": "f63c5e29-76f7-4930-bab2-dd895676f04b",
   "metadata": {},
   "outputs": [
    {
     "name": "stdout",
     "output_type": "stream",
     "text": [
      "enqueue(1) → in_stack 상태: [1]\n",
      "enqueue(2) → in_stack 상태: [1, 2]\n",
      "front() → 1\n",
      "dequeue() → 1, out_stack 상태: [2]\n",
      "empty() → False\n",
      "dequeue() → 2, out_stack 상태: []\n",
      "empty() → True\n"
     ]
    },
    {
     "data": {
      "text/plain": [
       "True"
      ]
     },
     "execution_count": 2,
     "metadata": {},
     "output_type": "execute_result"
    }
   ],
   "source": [
    "class MyQueue:\n",
    "    def __init__(self):\n",
    "        self.in_stack = []  # 입력을 위한 스택\n",
    "        self.out_stack = []  # 출력에 사용될 스택\n",
    "\n",
    "    def enqueue(self, x: int) -> None:\n",
    "        self.in_stack.append(x)  # 값을 in_stack에 추가\n",
    "        print(f\"enqueue({x}) → in_stack 상태: {self.in_stack}\")\n",
    "\n",
    "    def dequeue(self) -> int:\n",
    "        if not self.out_stack:  # 출력 스택이 비어 있으면\n",
    "            while self.in_stack:\n",
    "                self.out_stack.append(self.in_stack.pop())  # in_stack의 값들을 out_stack으로 이동\n",
    "        val = self.out_stack.pop()  # 가장 앞의 값을 꺼내서 리턴\n",
    "        print(f\"dequeue() → {val}, out_stack 상태: {self.out_stack}\")\n",
    "        return val\n",
    "\n",
    "    def front(self) -> int:\n",
    "        if not self.out_stack:  # 출력 스택이 비어 있으면\n",
    "            while self.in_stack:\n",
    "                self.out_stack.append(self.in_stack.pop())  # in_stack의 값들을 out_stack으로 이동\n",
    "        print(f\"front() → {self.out_stack[-1]}\")\n",
    "        return self.out_stack[-1]\n",
    "\n",
    "    def empty(self) -> bool:\n",
    "        is_empty = not self.in_stack and not self.out_stack  # 두 스택이 모두 비었으면 True\n",
    "        print(f\"empty() → {is_empty}\")\n",
    "        return is_empty\n",
    "\n",
    "\n",
    "# 테스트 실행\n",
    "queue = MyQueue()\n",
    "queue.enqueue(1)\n",
    "queue.enqueue(2)\n",
    "queue.front()    # 출력: 1\n",
    "queue.dequeue()  # 출력: 1 제거\n",
    "queue.empty()    # 출력: False\n",
    "queue.dequeue()  # 출력: 2 제거\n",
    "queue.empty()    # 출력: True\n",
    "\n"
   ]
  },
  {
   "cell_type": "markdown",
   "id": "cd309e06-e3ff-4887-b9da-922fa5d98d33",
   "metadata": {},
   "source": [
    "#  교재 연습문제 풀이"
   ]
  },
  {
   "cell_type": "markdown",
   "id": "e662fb4c-fe2a-4d0f-ab34-a54bc27c9d3b",
   "metadata": {},
   "source": [
    "### 01"
   ]
  },
  {
   "cell_type": "code",
   "execution_count": null,
   "id": "e81c7864-ab62-4a23-a154-cc5dc1fc08dc",
   "metadata": {},
   "outputs": [],
   "source": [
    "class ListQueue:\n",
    "    def __init__(self):\n",
    "        self.__queue = []\n",
    "\n",
    "    def enqueue(self, x):\n",
    "        self.__queue.insert(0, x)  # 앞쪽에 삽입 → tail\n",
    "\n",
    "    def dequeue(self):\n",
    "        return self.__queue.pop()  # 뒤에서 제거 → front\n",
    "\n",
    "    def front(self):\n",
    "        return self.__queue[-1]\n",
    "\n",
    "    def isEmpty(self) -> bool:\n",
    "        return len(self.__queue) == 0\n",
    "\n",
    "    def dequeueAll(self):\n",
    "        self.__queue.clear()\n"
   ]
  },
  {
   "cell_type": "markdown",
   "id": "b4e07df3-2883-458d-9ce4-9c61bb6c75b0",
   "metadata": {},
   "source": [
    "### 02\n"
   ]
  },
  {
   "cell_type": "code",
   "execution_count": 1,
   "id": "6dfc45d5-1b94-4f14-a0a6-0fd3e933cf09",
   "metadata": {},
   "outputs": [],
   "source": [
    "from collections import deque\n",
    "\n",
    "def is_all_letters(string):\n",
    "    q = deque(string)\n",
    "    while q:\n",
    "        ch = q.popleft()\n",
    "        if not ch.isalpha():  # 문자가 아니면 False\n",
    "            return False\n",
    "    return True\n"
   ]
  },
  {
   "cell_type": "markdown",
   "id": "8f44b734-3b31-48f7-afa3-3b1cc62e7956",
   "metadata": {},
   "source": [
    "### 03"
   ]
  },
  {
   "cell_type": "code",
   "execution_count": 2,
   "id": "be2edc04-07e0-47ca-a31d-674866ed4e95",
   "metadata": {},
   "outputs": [],
   "source": [
    "def copyQueue(a):\n",
    "    b = LinkedQueue()\n",
    "    temp = LinkedQueue()\n",
    "\n",
    "    while not a.isEmpty():\n",
    "        x = a.dequeue()\n",
    "        b.enqueue(x)\n",
    "        temp.enqueue(x)\n",
    "\n",
    "    while not temp.isEmpty():\n",
    "        a.enqueue(temp.dequeue())\n",
    "\n",
    "    return b\n"
   ]
  },
  {
   "cell_type": "markdown",
   "id": "ab9cd93c-9dc8-4b8e-9c86-01f7677e9a76",
   "metadata": {},
   "source": [
    "### 04"
   ]
  },
  {
   "cell_type": "code",
   "execution_count": 3,
   "id": "b4e6ab3c-5028-44b4-9509-296c13f030cc",
   "metadata": {},
   "outputs": [],
   "source": [
    "from collections import deque\n",
    "\n",
    "class StackWithQueues:\n",
    "    def __init__(self):\n",
    "        self.q1 = deque()\n",
    "        self.q2 = deque()\n",
    "\n",
    "    def push(self, x):\n",
    "        self.q2.append(x)\n",
    "        while self.q1:\n",
    "            self.q2.append(self.q1.popleft())\n",
    "        self.q1, self.q2 = self.q2, self.q1\n",
    "\n",
    "    def pop(self):\n",
    "        return self.q1.popleft()\n"
   ]
  },
  {
   "cell_type": "markdown",
   "id": "9f3338b4-1ba5-4a9f-950b-2d02dbd7f264",
   "metadata": {},
   "source": [
    "### 05"
   ]
  },
  {
   "cell_type": "code",
   "execution_count": 4,
   "id": "2a9b0753-c767-42c2-84ec-27f8a971a15d",
   "metadata": {},
   "outputs": [],
   "source": [
    "class QueueWithStacks:\n",
    "    def __init__(self):\n",
    "        self.in_stack = []\n",
    "        self.out_stack = []\n",
    "\n",
    "    def enqueue(self, x):\n",
    "        self.in_stack.append(x)\n",
    "\n",
    "    def dequeue(self):\n",
    "        if not self.out_stack:\n",
    "            while self.in_stack:\n",
    "                self.out_stack.append(self.in_stack.pop())\n",
    "        return self.out_stack.pop()\n"
   ]
  },
  {
   "cell_type": "markdown",
   "id": "d46b8677-d7b4-4345-9249-fbc75d2b4933",
   "metadata": {},
   "source": [
    "### 06"
   ]
  },
  {
   "cell_type": "markdown",
   "id": "9bf0cf97-b222-4f84-9bd4-8f0b93e8fbc0",
   "metadata": {},
   "source": [
    "enqueue()는 리스트의 append → 시간 복잡도 O(1)\n",
    "\n",
    "dequeue()는 리스트의 pop(0) → 시간 복잡도 O(n)"
   ]
  },
  {
   "cell_type": "markdown",
   "id": "83357063-acae-4884-b4c4-5b7b75d6ef9e",
   "metadata": {},
   "source": [
    "### 07"
   ]
  },
  {
   "cell_type": "markdown",
   "id": "541b7941-52f9-4132-8ce4-27016e89a86e",
   "metadata": {},
   "source": [
    " O(1) "
   ]
  },
  {
   "cell_type": "markdown",
   "id": "98841c96-b1bb-458c-92bc-69c9ecac2e1d",
   "metadata": {},
   "source": [
    "### 08"
   ]
  },
  {
   "cell_type": "code",
   "execution_count": null,
   "id": "649289a4-49f7-4711-b76d-8543e5f7a4d8",
   "metadata": {},
   "outputs": [],
   "source": [
    "class Deque:\n",
    "    def __init__(self):\n",
    "        self.__deque = []\n",
    "\n",
    "    def addFront(self, x):\n",
    "        self.__deque.insert(0, x)\n",
    "\n",
    "    def addRear(self, x):\n",
    "        self.__deque.append(x)\n",
    "\n",
    "    def deleteFront(self):\n",
    "        if self.isEmpty():\n",
    "            return None\n",
    "        return self.__deque.pop(0)\n",
    "\n",
    "    def deleteRear(self):\n",
    "        if self.isEmpty():\n",
    "            return None\n",
    "        return self.__deque.pop()\n",
    "\n",
    "    def isEmpty(self):\n",
    "        return len(self.__deque) == 0\n",
    "\n",
    "    def size(self):\n",
    "        return len(self.__deque)\n",
    "\n",
    "    def printDeque(self):\n",
    "        print(\"Deque from front:\", end=\" \")\n",
    "        for i in self.__deque:\n",
    "            print(i, end=\" \")\n",
    "        print()\n"
   ]
  }
 ],
 "metadata": {
  "kernelspec": {
   "display_name": "Python 3 (ipykernel)",
   "language": "python",
   "name": "python3"
  },
  "language_info": {
   "codemirror_mode": {
    "name": "ipython",
    "version": 3
   },
   "file_extension": ".py",
   "mimetype": "text/x-python",
   "name": "python",
   "nbconvert_exporter": "python",
   "pygments_lexer": "ipython3",
   "version": "3.13.2"
  }
 },
 "nbformat": 4,
 "nbformat_minor": 5
}
